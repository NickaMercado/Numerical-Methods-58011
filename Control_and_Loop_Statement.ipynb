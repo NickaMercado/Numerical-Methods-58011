{
  "nbformat": 4,
  "nbformat_minor": 0,
  "metadata": {
    "colab": {
      "name": "Control and Loop Statement.ipynb",
      "provenance": [],
      "authorship_tag": "ABX9TyPi5ovNLmLv68oKHttSnvtR",
      "include_colab_link": true
    },
    "kernelspec": {
      "name": "python3",
      "display_name": "Python 3"
    },
    "language_info": {
      "name": "python"
    }
  },
  "cells": [
    {
      "cell_type": "markdown",
      "metadata": {
        "id": "view-in-github",
        "colab_type": "text"
      },
      "source": [
        "<a href=\"https://colab.research.google.com/github/Nickamaes/Numerical-Methods-58011/blob/main/Control_and_Loop_Statement.ipynb\" target=\"_parent\"><img src=\"https://colab.research.google.com/assets/colab-badge.svg\" alt=\"Open In Colab\"/></a>"
      ]
    },
    {
      "cell_type": "markdown",
      "source": [
        "###If Statement"
      ],
      "metadata": {
        "id": "E8Vdq1EWbsvy"
      }
    },
    {
      "cell_type": "code",
      "execution_count": null,
      "metadata": {
        "id": "nsWM2FchbpMS"
      },
      "outputs": [],
      "source": [
        "a=100\n",
        "b=100\n",
        "\n",
        "if b>a:\n",
        "  print(\"b is greater than a\")"
      ]
    },
    {
      "cell_type": "markdown",
      "source": [
        "###Elif Statement\n"
      ],
      "metadata": {
        "id": "uhdN4c_ocqYT"
      }
    },
    {
      "cell_type": "code",
      "source": [
        "if b>a:\n",
        "  print(\"b is greater than a\")\n",
        "elif a>b:\n",
        "  print(\"a is greater than b\")"
      ],
      "metadata": {
        "colab": {
          "base_uri": "https://localhost:8080/"
        },
        "id": "y14bDUw0cs_K",
        "outputId": "e619e1c3-4998-4514-d7ed-fe6656532517"
      },
      "execution_count": null,
      "outputs": [
        {
          "output_type": "stream",
          "name": "stdout",
          "text": [
            "b is greater than a\n"
          ]
        }
      ]
    },
    {
      "cell_type": "markdown",
      "source": [
        "###Else Statement"
      ],
      "metadata": {
        "id": "d7OKKD9ZdXZT"
      }
    },
    {
      "cell_type": "code",
      "source": [
        "if b>a:\n",
        "  print(\"b is greater than a\")\n",
        "elif a>b:\n",
        "  print(\"a is greater than b\")\n",
        "else:\n",
        "  print(\"a is equal to b\")"
      ],
      "metadata": {
        "colab": {
          "base_uri": "https://localhost:8080/"
        },
        "id": "qUyFZ0K6dZdU",
        "outputId": "0b8fa0b4-77e8-47e5-9508-a32249910302"
      },
      "execution_count": null,
      "outputs": [
        {
          "output_type": "stream",
          "name": "stdout",
          "text": [
            "a is equal to b\n"
          ]
        }
      ]
    },
    {
      "cell_type": "markdown",
      "source": [
        "###Short Hand If Statement"
      ],
      "metadata": {
        "id": "gCktWs_CeFcL"
      }
    },
    {
      "cell_type": "code",
      "source": [
        "a=12\n",
        "b=100\n",
        "if b>a: print(\"b is greater than a\")"
      ],
      "metadata": {
        "colab": {
          "base_uri": "https://localhost:8080/"
        },
        "id": "7-UaW1NveIh2",
        "outputId": "d40f5fb7-7323-4b6f-d509-0cfad6899bd3"
      },
      "execution_count": null,
      "outputs": [
        {
          "output_type": "stream",
          "name": "stdout",
          "text": [
            "b is greater than a\n"
          ]
        }
      ]
    },
    {
      "cell_type": "markdown",
      "source": [
        "###Short Hand If.. Else Statement"
      ],
      "metadata": {
        "id": "D1mQaS3Megrr"
      }
    },
    {
      "cell_type": "code",
      "source": [
        "c=35\n",
        "d=40\n",
        "\n",
        "print(\"c is greater than d\") if c>d else print(\"d is greater than c\")"
      ],
      "metadata": {
        "colab": {
          "base_uri": "https://localhost:8080/"
        },
        "id": "yuPWmnp_ej_0",
        "outputId": "4093c636-bd6d-4233-8c8f-95053f7241ef"
      },
      "execution_count": null,
      "outputs": [
        {
          "output_type": "stream",
          "name": "stdout",
          "text": [
            "d is greater than c\n"
          ]
        }
      ]
    },
    {
      "cell_type": "markdown",
      "source": [
        "###And logic - if both statements or operands are true"
      ],
      "metadata": {
        "id": "QAc9wY7gfdoP"
      }
    },
    {
      "cell_type": "code",
      "source": [
        "c=35\n",
        "d=40\n",
        "e=30\n",
        "\n",
        "if d>c and c>e:\n",
        "  print(\"Both conditions must be True\")"
      ],
      "metadata": {
        "colab": {
          "base_uri": "https://localhost:8080/"
        },
        "id": "mHE3C5Dcfiqm",
        "outputId": "73e165fb-dec5-41cc-d6ab-70e2cd0f52eb"
      },
      "execution_count": null,
      "outputs": [
        {
          "output_type": "stream",
          "name": "stdout",
          "text": [
            "Both conditions must be True\n"
          ]
        }
      ]
    },
    {
      "cell_type": "markdown",
      "source": [
        "###Or logic - if one of the operands is True\n",
        "\n",
        "\n"
      ],
      "metadata": {
        "id": "4KmCSAJef___"
      }
    },
    {
      "cell_type": "code",
      "source": [
        "if d>c or e>c:\n",
        "  print(\"If one of the true operands is True\")"
      ],
      "metadata": {
        "colab": {
          "base_uri": "https://localhost:8080/"
        },
        "id": "f-k2NJRRgGdP",
        "outputId": "dbc065a5-0f51-4c1c-f14d-53f87892186c"
      },
      "execution_count": null,
      "outputs": [
        {
          "output_type": "stream",
          "name": "stdout",
          "text": [
            "If one of the true operands is True\n"
          ]
        }
      ]
    },
    {
      "cell_type": "markdown",
      "source": [
        "###Nested If"
      ],
      "metadata": {
        "id": "1MLz7SRjgWO5"
      }
    },
    {
      "cell_type": "code",
      "source": [
        "x=int(input())\n",
        "\n",
        "if x>10:\n",
        "  print(\"x is above 10\")\n",
        "  if x>20:\n",
        "    print(\"x is above 20\")\n",
        "    if x>30:\n",
        "      print(\"x is above 30\")\n",
        "      if x>40:\n",
        "        print(\"x is above 40\")\n",
        "      else:\n",
        "        print(\"x is not above 40\")\n",
        "    else:\n",
        "      print(\"x is not above 30\")\n",
        "  else:\n",
        "    print(\"x is not above 20\")"
      ],
      "metadata": {
        "colab": {
          "base_uri": "https://localhost:8080/"
        },
        "id": "v1BNVg8ZhNNg",
        "outputId": "e873eda0-5b52-49a4-eba5-85f9523c11aa"
      },
      "execution_count": null,
      "outputs": [
        {
          "output_type": "stream",
          "name": "stdout",
          "text": [
            "45\n",
            "x is above 10\n",
            "x is above 20\n",
            "x is above 30\n",
            "x is above 40\n"
          ]
        }
      ]
    },
    {
      "cell_type": "markdown",
      "source": [
        "###Application 1: Write a program that determines if the input age is qualified to vote or not. The qualifying age is 18 years old anf above."
      ],
      "metadata": {
        "id": "Z-Es3_SMih0L"
      }
    },
    {
      "cell_type": "code",
      "source": [
        "age=int(input())\n",
        "\n",
        "if age>=18:\n",
        "  print(\"You are qualified to vote\")\n",
        "else:\n",
        "  print(\"You are not qualified to vote\")"
      ],
      "metadata": {
        "colab": {
          "base_uri": "https://localhost:8080/"
        },
        "id": "X-mp7iywijRa",
        "outputId": "bbd3ab85-55d1-4a5c-fe98-1882a49317f6"
      },
      "execution_count": null,
      "outputs": [
        {
          "output_type": "stream",
          "name": "stdout",
          "text": [
            "16\n",
            "You are not qualified to vote\n"
          ]
        }
      ]
    },
    {
      "cell_type": "markdown",
      "source": [
        "###Application 2: Write a program that determines if the input number is POSITIVE, NEGATIVE or Zero"
      ],
      "metadata": {
        "id": "eUjN0dunjqnj"
      }
    },
    {
      "cell_type": "code",
      "source": [
        "input_number = int(input())\n",
        "\n",
        "if input_number > 0:\n",
        "  print('The number is positive.')\n",
        "elif input_number < 0:\n",
        "  print('The number is negative.')\n",
        "else:\n",
        "  print('The number is zero.')"
      ],
      "metadata": {
        "id": "dD7J19mSkmk-",
        "outputId": "59188e70-63f5-4864-b5eb-6ea284b5412b",
        "colab": {
          "base_uri": "https://localhost:8080/"
        }
      },
      "execution_count": 1,
      "outputs": [
        {
          "output_type": "stream",
          "name": "stdout",
          "text": [
            "0\n",
            "The number is zero.\n"
          ]
        }
      ]
    },
    {
      "cell_type": "markdown",
      "source": [
        "###For Loop Statement"
      ],
      "metadata": {
        "id": "80tgq8uSj_Ht"
      }
    },
    {
      "cell_type": "code",
      "source": [
        "week=[\"Sunday\", \"Monday\", \"Tuesday\", \"Wednesday\", \"Thursday\", \"Friday\", \"Saturday\"]\n",
        "\n",
        "for x in week:\n",
        "  print(x)"
      ],
      "metadata": {
        "colab": {
          "base_uri": "https://localhost:8080/"
        },
        "id": "irAWkpnrkryl",
        "outputId": "a9a57dd0-647e-47b8-fb24-affabeee2998"
      },
      "execution_count": null,
      "outputs": [
        {
          "output_type": "stream",
          "name": "stdout",
          "text": [
            "Sunday\n",
            "Monday\n",
            "Tuesday\n",
            "Wednesday\n",
            "Thursday\n",
            "Friday\n",
            "Saturday\n"
          ]
        }
      ]
    },
    {
      "cell_type": "markdown",
      "source": [
        "###The break statement"
      ],
      "metadata": {
        "id": "HDUntRpslBT_"
      }
    },
    {
      "cell_type": "code",
      "source": [
        "for x in week:\n",
        "  print(x)\n",
        "\n",
        "  if x ==\"Thursday\":\n",
        "    break"
      ],
      "metadata": {
        "colab": {
          "base_uri": "https://localhost:8080/"
        },
        "id": "KNOa29v1lKT4",
        "outputId": "3758f489-1b9b-4b5f-fed7-ec74b525a34c"
      },
      "execution_count": null,
      "outputs": [
        {
          "output_type": "stream",
          "name": "stdout",
          "text": [
            "Sunday\n",
            "Monday\n",
            "Tuesday\n",
            "Wednesday\n",
            "Thursday\n"
          ]
        }
      ]
    },
    {
      "cell_type": "markdown",
      "source": [
        "###While Loop"
      ],
      "metadata": {
        "id": "IUhGrZ7WloWf"
      }
    },
    {
      "cell_type": "code",
      "source": [
        "y=1\n",
        "\n",
        "while y<2:\n",
        "  print(y)\n",
        "  if y==3:\n",
        "    break\n",
        "  y+=1"
      ],
      "metadata": {
        "colab": {
          "base_uri": "https://localhost:8080/"
        },
        "id": "LxiCgjqSlp4v",
        "outputId": "64e6724c-d03c-4f55-a0cf-c0f61c731075"
      },
      "execution_count": null,
      "outputs": [
        {
          "output_type": "stream",
          "name": "stdout",
          "text": [
            "1\n"
          ]
        }
      ]
    }
  ]
}